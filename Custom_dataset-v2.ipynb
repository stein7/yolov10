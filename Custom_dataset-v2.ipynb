{
 "cells": [
  {
   "cell_type": "code",
   "execution_count": null,
   "metadata": {},
   "outputs": [],
   "source": [
    "!pip install roboflow\n",
    "\n",
    "from roboflow import Roboflow\n",
    "rf = Roboflow(api_key=\"7KI4BjAwunevX09KhjH9\")\n",
    "project = rf.workspace(\"roboflow-jvuqo\").project(\"football-players-detection-3zvbc\")\n",
    "version = project.version(10)\n",
    "dataset = version.download(\"yolov8\")\n"
   ]
  },
  {
   "cell_type": "code",
   "execution_count": null,
   "metadata": {},
   "outputs": [],
   "source": [
    "!wget https://github.com/THU-MIG/yolov10/releases/download/v1.1/yolov10n.pt\n",
    "!wget https://github.com/THU-MIG/yolov10/releases/download/v1.1/yolov10s.pt\n",
    "!wget https://github.com/THU-MIG/yolov10/releases/download/v1.1/yolov10m.pt\n",
    "!wget https://github.com/THU-MIG/yolov10/releases/download/v1.1/yolov10b.pt\n",
    "!wget https://github.com/THU-MIG/yolov10/releases/download/v1.1/yolov10l.pt"
   ]
  },
  {
   "cell_type": "code",
   "execution_count": null,
   "metadata": {},
   "outputs": [],
   "source": [
    "import os\n",
    "import shutil\n",
    "\n",
    "path = '/users2/dataset/replica/vmap/room_0/imap/00/rgb'\n",
    "save_path = '/home/sslunder0/project/Object-Detector/datasets/replica/room_0'\n",
    "\n",
    "if not os.path.exists(save_path):\n",
    "    os.makedirs(save_path)\n",
    "\n",
    "for i in range(0, 2000, 100):\n",
    "    filename = f'rgb_{i}.png'\n",
    "    src_file = os.path.join(path, filename)\n",
    "    dst_file = os.path.join(save_path, filename)\n",
    "    shutil.copy(src_file, dst_file)\n",
    "    print(f'saved path: {dst_file}')\n"
   ]
  },
  {
   "cell_type": "code",
   "execution_count": null,
   "metadata": {},
   "outputs": [],
   "source": [
    "from ultralytics.utils.torch_utils import model_info\n",
    "model_info(model, detailed=False, imgsz=640)"
   ]
  },
  {
   "cell_type": "code",
   "execution_count": null,
   "metadata": {},
   "outputs": [],
   "source": [
    "from ultralytics import YOLOv10\n",
    "import os\n",
    "os.environ[\"CUDA_VISIBLE_DEVICES\"] = \"2\"\n",
    "# model = YOLOv10('./weights/yolov10n.pt')\n",
    "# model = YOLOv10('./model_indoor.pt')\n",
    "# model.save('./model.pt')\n",
    "model = YOLOv10('./runs/detect/train29/weights/best.pt')"
   ]
  },
  {
   "cell_type": "code",
   "execution_count": null,
   "metadata": {},
   "outputs": [],
   "source": [
    "# model.train(data='../datasets/football-players-detection-10/data.yaml', epochs=25, batch=32)\n",
    "\n",
    "model.train(data='../datasets/IndoorScene-v2/data.yaml', epochs=1000, batch=7)"
   ]
  },
  {
   "cell_type": "code",
   "execution_count": null,
   "metadata": {},
   "outputs": [],
   "source": [
    "model.save('./model_indoor.pt')"
   ]
  },
  {
   "cell_type": "code",
   "execution_count": null,
   "metadata": {},
   "outputs": [],
   "source": [
    "# model.val(data='../datasets/football-players-detection-10/data.yaml')\n",
    "\n",
    "model.val(data='../datasets/IndoorScene/data.yaml')"
   ]
  },
  {
   "cell_type": "code",
   "execution_count": null,
   "metadata": {},
   "outputs": [],
   "source": [
    "import sys\n",
    "sys.argv = [\"path/to/your/script/yolo\", \"predict\"]\n",
    "# model.predict('/home/sslunder0/project/Object-Detector/datasets/football-players-detection-10/valid/images/a9f16c_8_10_png.rf.9835e230bebd2303d07d0147fe441dfa.jpg')\n",
    "\n",
    "model.predict(\"/users2/dataset/replica/vmap/room_0/imap/00/rgb/\")\n",
    "# model.predict(\"/users2/dataset/replica/vmap/room_0/imap/00/rgb/rgb_62.png\")\n",
    "\n",
    "# model.predict(\"/users2/dataset/replica/vmap/room_0/imap/00/rgb/rgb_163.png\")\n",
    "# model.predict(\"/users2/dataset/replica/vmap/room_0/imap/00/rgb/rgb_263.png\")\n",
    "# model.predict(\"/users2/dataset/replica/vmap/room_0/imap/00/rgb/rgb_363.png\")\n",
    "# model.predict(\"/users2/dataset/replica/vmap/room_0/imap/00/rgb/rgb_463.png\")"
   ]
  },
  {
   "cell_type": "code",
   "execution_count": 19,
   "metadata": {},
   "outputs": [],
   "source": [
    "import json\n",
    "import os\n",
    "save_path = \"/home/sslunder0/project/Object-Detector/yolov10/runs/detect/predict24\"\n",
    "\n",
    "total_dict = {}\n",
    "total_list = []\n",
    "for filename in os.listdir(save_path):\n",
    "    if filename != 'combined.json':\n",
    "        if filename.endswith(\".json\"):\n",
    "            file_path = os.path.join(save_path, filename)\n",
    "            try:\n",
    "                with open(file_path, 'r') as f:\n",
    "                    data = json.load(f)\n",
    "                    # key = os.path.splitext(filename)[0]\n",
    "                    # total_dict[key] = data\n",
    "                    # total_dict.update(data)\n",
    "                    total_list.append(data)\n",
    "            except Exception:\n",
    "                print(f'error {Exception}')\n",
    "\n",
    "new_save_path = os.path.join(save_path, \"combined.json\")\n",
    "with open(new_save_path, 'w') as f:\n",
    "    json.dump(total_list, f, indent=4)\n",
    "\n",
    "## 각각 {image idx : {}} {image 2: {}} 이걸 괄호안닫고 합쳐야함!!"
   ]
  },
  {
   "cell_type": "code",
   "execution_count": 17,
   "metadata": {},
   "outputs": [
    {
     "name": "stdout",
     "output_type": "stream",
     "text": [
      "{'bookC': 3, 'bookD': 4, 'bookE': 5, 'bookA': 1, 'bookB': 2}\n",
      "{'key1': 'value1', 'key2': 'value2', 'key3': 'value3', 'key4': 'value4'}\n"
     ]
    },
    {
     "ename": "TypeError",
     "evalue": "unhashable type: 'dict'",
     "output_type": "error",
     "traceback": [
      "\u001b[0;31m---------------------------------------------------------------------------\u001b[0m",
      "\u001b[0;31mTypeError\u001b[0m                                 Traceback (most recent call last)",
      "Cell \u001b[0;32mIn[17], line 14\u001b[0m\n\u001b[1;32m     10\u001b[0m combined_dict \u001b[38;5;241m=\u001b[39m \u001b[38;5;28mdict\u001b[39m(\u001b[38;5;241m*\u001b[39m\u001b[38;5;241m*\u001b[39mlist_of_dicts[\u001b[38;5;241m0\u001b[39m], \u001b[38;5;241m*\u001b[39m\u001b[38;5;241m*\u001b[39mlist_of_dicts[\u001b[38;5;241m1\u001b[39m])\n\u001b[1;32m     12\u001b[0m \u001b[38;5;28mprint\u001b[39m(combined_dict)\n\u001b[0;32m---> 14\u001b[0m {{\u001b[38;5;124m\"\u001b[39m\u001b[38;5;124mkey1\u001b[39m\u001b[38;5;124m\"\u001b[39m: \u001b[38;5;124m\"\u001b[39m\u001b[38;5;124mvalue1\u001b[39m\u001b[38;5;124m\"\u001b[39m, \u001b[38;5;124m\"\u001b[39m\u001b[38;5;124mkey2\u001b[39m\u001b[38;5;124m\"\u001b[39m: \u001b[38;5;124m\"\u001b[39m\u001b[38;5;124mvalue2\u001b[39m\u001b[38;5;124m\"\u001b[39m}, {\u001b[38;5;124m\"\u001b[39m\u001b[38;5;124mkey3\u001b[39m\u001b[38;5;124m\"\u001b[39m: \u001b[38;5;124m\"\u001b[39m\u001b[38;5;124mvalue3\u001b[39m\u001b[38;5;124m\"\u001b[39m, \u001b[38;5;124m\"\u001b[39m\u001b[38;5;124mkey4\u001b[39m\u001b[38;5;124m\"\u001b[39m: \u001b[38;5;124m\"\u001b[39m\u001b[38;5;124mvalue4\u001b[39m\u001b[38;5;124m\"\u001b[39m}}\n",
      "\u001b[0;31mTypeError\u001b[0m: unhashable type: 'dict'"
     ]
    }
   ],
   "source": [
    "dict1 = {'bookA': 1, 'bookB': 2, 'bookC': 3}\n",
    "dict2 = {'bookC': 2, 'bookD': 4, 'bookE': 5}\n",
    "dict2.update(dict1)\n",
    "print(dict2)\n",
    "\n",
    "list_of_dicts = [{\"key1\": \"value1\", \"key2\": \"value2\"}, {\"key3\": \"value3\", \"key4\": \"value4\"}]\n",
    "with open('/home/sslunder0/project/Object-Detector/yolov10/te.json', 'w') as f:\n",
    "    json.dump(list_of_dicts, f)\n",
    "# 리스트를 단일 딕셔너리로 변환\n",
    "combined_dict = dict(**list_of_dicts[0], **list_of_dicts[1])\n",
    "\n",
    "print(combined_dict)\n",
    "\n",
    "# {{\"key1\": \"value1\", \"key2\": \"value2\"}, {\"key3\": \"value3\", \"key4\": \"value4\"}}"
   ]
  }
 ],
 "metadata": {
  "kernelspec": {
   "display_name": "yolov10",
   "language": "python",
   "name": "python3"
  },
  "language_info": {
   "codemirror_mode": {
    "name": "ipython",
    "version": 3
   },
   "file_extension": ".py",
   "mimetype": "text/x-python",
   "name": "python",
   "nbconvert_exporter": "python",
   "pygments_lexer": "ipython3",
   "version": "3.9.19"
  }
 },
 "nbformat": 4,
 "nbformat_minor": 2
}
